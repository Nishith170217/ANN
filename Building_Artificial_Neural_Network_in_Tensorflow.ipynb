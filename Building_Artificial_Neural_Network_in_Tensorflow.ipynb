{
  "nbformat": 4,
  "nbformat_minor": 0,
  "metadata": {
    "colab": {
      "name": "Building Artificial Neural Network in Tensorflow.ipynb",
      "provenance": [],
      "authorship_tag": "ABX9TyNhVSGLHrR/T3p627qPzoOG",
      "include_colab_link": true
    },
    "kernelspec": {
      "name": "python3",
      "display_name": "Python 3"
    }
  },
  "cells": [
    {
      "cell_type": "markdown",
      "metadata": {
        "id": "view-in-github",
        "colab_type": "text"
      },
      "source": [
        "<a href=\"https://colab.research.google.com/github/Nishith170217/ANN/blob/main/Building_Artificial_Neural_Network_in_Tensorflow.ipynb\" target=\"_parent\"><img src=\"https://colab.research.google.com/assets/colab-badge.svg\" alt=\"Open In Colab\"/></a>"
      ]
    },
    {
      "cell_type": "code",
      "metadata": {
        "id": "sd2i35lRj0oF"
      },
      "source": [
        "import numpy as np\n",
        "import datetime\n",
        "import tensorflow as tf\n",
        "from tensorflow.keras.datasets import fashion_mnist"
      ],
      "execution_count": null,
      "outputs": []
    },
    {
      "cell_type": "markdown",
      "metadata": {
        "id": "1LZxcXuhlhkq"
      },
      "source": [
        "**Loading the datasets**"
      ]
    },
    {
      "cell_type": "code",
      "metadata": {
        "id": "eFxS8crrln4S",
        "colab": {
          "base_uri": "https://localhost:8080/",
          "height": 156
        },
        "outputId": "08c23d17-6c79-49a4-9165-0d6e36d927e8"
      },
      "source": [
        "(X_train,y_train),(X_test,y_test) = fashion_mnist.load_data()"
      ],
      "execution_count": null,
      "outputs": [
        {
          "output_type": "stream",
          "text": [
            "Downloading data from https://storage.googleapis.com/tensorflow/tf-keras-datasets/train-labels-idx1-ubyte.gz\n",
            "32768/29515 [=================================] - 0s 0us/step\n",
            "Downloading data from https://storage.googleapis.com/tensorflow/tf-keras-datasets/train-images-idx3-ubyte.gz\n",
            "26427392/26421880 [==============================] - 0s 0us/step\n",
            "Downloading data from https://storage.googleapis.com/tensorflow/tf-keras-datasets/t10k-labels-idx1-ubyte.gz\n",
            "8192/5148 [===============================================] - 0s 0us/step\n",
            "Downloading data from https://storage.googleapis.com/tensorflow/tf-keras-datasets/t10k-images-idx3-ubyte.gz\n",
            "4423680/4422102 [==============================] - 0s 0us/step\n"
          ],
          "name": "stdout"
        }
      ]
    },
    {
      "cell_type": "markdown",
      "metadata": {
        "id": "VU9XDQe9mCJR"
      },
      "source": [
        "**Normalizing the images**"
      ]
    },
    {
      "cell_type": "code",
      "metadata": {
        "id": "bEa6y1mdmLuR"
      },
      "source": [
        "X_train =  X_train/255.0"
      ],
      "execution_count": null,
      "outputs": []
    },
    {
      "cell_type": "code",
      "metadata": {
        "id": "5-xH8nAzpUCZ"
      },
      "source": [
        "X_test = X_test/255.0"
      ],
      "execution_count": null,
      "outputs": []
    },
    {
      "cell_type": "markdown",
      "metadata": {
        "id": "RehGKhI7pZtw"
      },
      "source": [
        "**Reshaping dataset**"
      ]
    },
    {
      "cell_type": "code",
      "metadata": {
        "id": "vkQdjwrFpdqA",
        "colab": {
          "base_uri": "https://localhost:8080/",
          "height": 35
        },
        "outputId": "f59cde38-9c24-4c27-b23c-c616f7ed51c4"
      },
      "source": [
        "X_train =X_train.reshape(-1,28*28)\n",
        "X_train.shape"
      ],
      "execution_count": null,
      "outputs": [
        {
          "output_type": "execute_result",
          "data": {
            "text/plain": [
              "(60000, 784)"
            ]
          },
          "metadata": {
            "tags": []
          },
          "execution_count": 5
        }
      ]
    },
    {
      "cell_type": "code",
      "metadata": {
        "id": "lEsKkTFVp7qC"
      },
      "source": [
        "X_test= X_test.reshape(-1,28*28)"
      ],
      "execution_count": null,
      "outputs": []
    },
    {
      "cell_type": "markdown",
      "metadata": {
        "id": "oyy1AUBRqom4"
      },
      "source": [
        "**Building ANN**"
      ]
    },
    {
      "cell_type": "markdown",
      "metadata": {
        "id": "bGa9Wo96q27Y"
      },
      "source": [
        "Defining model"
      ]
    },
    {
      "cell_type": "code",
      "metadata": {
        "id": "a0FRkkB0qr6Q"
      },
      "source": [
        "model = tf.keras.models.Sequential()"
      ],
      "execution_count": null,
      "outputs": []
    },
    {
      "cell_type": "markdown",
      "metadata": {
        "id": "ItW4VtSrrK9q"
      },
      "source": [
        "**Adding a first fully connected hidden layer**\n",
        "\n",
        "\n",
        "*   Number of neurons/units: 128\n",
        "*   Activation function ReLU\n",
        "*   Input shape: (784,)\n",
        "\n",
        "\n",
        "\n",
        "\n"
      ]
    },
    {
      "cell_type": "code",
      "metadata": {
        "id": "RRZA2anKrojI"
      },
      "source": [
        "model.add(tf.keras.layers.Dense(units=128,activation='relu',input_shape=(784,)))"
      ],
      "execution_count": null,
      "outputs": []
    },
    {
      "cell_type": "markdown",
      "metadata": {
        "id": "1VyTm9lUsr07"
      },
      "source": [
        "**Adding a second layer with Dropout**\n",
        "\n",
        "Dropout is a regularization technique where we randomly set neurons in a layer to zero"
      ]
    },
    {
      "cell_type": "code",
      "metadata": {
        "id": "T2TKzXyRrD6J"
      },
      "source": [
        " model.add(tf.keras.layers.Dropout(0.3))"
      ],
      "execution_count": null,
      "outputs": []
    },
    {
      "cell_type": "markdown",
      "metadata": {
        "id": "fiIIAGEytXYh"
      },
      "source": [
        "**Adding the output layer**\n",
        "\n",
        "Units: number of classes (10 in the fashion minist datasets)\n",
        "Activation: softmax"
      ]
    },
    {
      "cell_type": "code",
      "metadata": {
        "id": "IP2Fgs59tnA4"
      },
      "source": [
        "model.add(tf.keras.layers.Dense(units=10,activation='softmax'))"
      ],
      "execution_count": null,
      "outputs": []
    },
    {
      "cell_type": "markdown",
      "metadata": {
        "id": "Weu3a5MFt0mX"
      },
      "source": [
        "**Compiling the model**\n",
        "\n",
        "\n",
        "\n",
        "*   Optimizer: Adam\n",
        "*   Loss: Sparse softmax(categorical) croaaentropy\n",
        "\n"
      ]
    },
    {
      "cell_type": "code",
      "metadata": {
        "id": "wZZy2PpIuT0X"
      },
      "source": [
        "model.compile(optimizer='adam',loss='sparse_categorical_crossentropy',metrics=['sparse_categorical_accuracy'])"
      ],
      "execution_count": null,
      "outputs": []
    },
    {
      "cell_type": "code",
      "metadata": {
        "id": "KBMd3_Yryymc",
        "colab": {
          "base_uri": "https://localhost:8080/",
          "height": 260
        },
        "outputId": "09fcd875-3ca0-47f9-9388-678dd8d1d2e8"
      },
      "source": [
        "model.summary()"
      ],
      "execution_count": null,
      "outputs": [
        {
          "output_type": "stream",
          "text": [
            "Model: \"sequential\"\n",
            "_________________________________________________________________\n",
            "Layer (type)                 Output Shape              Param #   \n",
            "=================================================================\n",
            "dense (Dense)                (None, 128)               100480    \n",
            "_________________________________________________________________\n",
            "dropout (Dropout)            (None, 128)               0         \n",
            "_________________________________________________________________\n",
            "dense_1 (Dense)              (None, 10)                1290      \n",
            "=================================================================\n",
            "Total params: 101,770\n",
            "Trainable params: 101,770\n",
            "Non-trainable params: 0\n",
            "_________________________________________________________________\n"
          ],
          "name": "stdout"
        }
      ]
    },
    {
      "cell_type": "markdown",
      "metadata": {
        "id": "3vPCdQI0uShf"
      },
      "source": [
        "**Train the model**"
      ]
    },
    {
      "cell_type": "code",
      "metadata": {
        "id": "ZbCYj12TzS8B",
        "colab": {
          "base_uri": "https://localhost:8080/",
          "height": 208
        },
        "outputId": "51eb1e37-2c6e-4f64-c2ed-820679069f3c"
      },
      "source": [
        "model.fit(X_train,y_train,epochs=5)"
      ],
      "execution_count": null,
      "outputs": [
        {
          "output_type": "stream",
          "text": [
            "Epoch 1/5\n",
            "1875/1875 [==============================] - 4s 2ms/step - loss: 0.5499 - sparse_categorical_accuracy: 0.8043\n",
            "Epoch 2/5\n",
            "1875/1875 [==============================] - 4s 2ms/step - loss: 0.4156 - sparse_categorical_accuracy: 0.8482\n",
            "Epoch 3/5\n",
            "1875/1875 [==============================] - 4s 2ms/step - loss: 0.3828 - sparse_categorical_accuracy: 0.8603\n",
            "Epoch 4/5\n",
            "1875/1875 [==============================] - 3s 2ms/step - loss: 0.3613 - sparse_categorical_accuracy: 0.8672\n",
            "Epoch 5/5\n",
            "1875/1875 [==============================] - 4s 2ms/step - loss: 0.3501 - sparse_categorical_accuracy: 0.8715\n"
          ],
          "name": "stdout"
        },
        {
          "output_type": "execute_result",
          "data": {
            "text/plain": [
              "<tensorflow.python.keras.callbacks.History at 0x7f81997d1e80>"
            ]
          },
          "metadata": {
            "tags": []
          },
          "execution_count": 13
        }
      ]
    },
    {
      "cell_type": "markdown",
      "metadata": {
        "id": "MD4Is8dB0N35"
      },
      "source": [
        "**Model evalution and predection**"
      ]
    },
    {
      "cell_type": "code",
      "metadata": {
        "id": "egn5JDKc0Tk1",
        "colab": {
          "base_uri": "https://localhost:8080/",
          "height": 35
        },
        "outputId": "f8d92df5-1a4e-4c82-b5a6-b14b4c082ff7"
      },
      "source": [
        "test_loss,test_accuracy = model.evaluate(X_test,y_test)"
      ],
      "execution_count": null,
      "outputs": [
        {
          "output_type": "stream",
          "text": [
            "313/313 [==============================] - 0s 1ms/step - loss: 0.3649 - sparse_categorical_accuracy: 0.8684\n"
          ],
          "name": "stdout"
        }
      ]
    },
    {
      "cell_type": "code",
      "metadata": {
        "id": "TSwtF3Qu1CSN",
        "colab": {
          "base_uri": "https://localhost:8080/",
          "height": 35
        },
        "outputId": "ba08195a-4799-4600-a525-bf6345f22941"
      },
      "source": [
        "print(\"Test accuracy: {}\".format(test_accuracy))"
      ],
      "execution_count": null,
      "outputs": [
        {
          "output_type": "stream",
          "text": [
            "Test accuracy: 0.868399977684021\n"
          ],
          "name": "stdout"
        }
      ]
    }
  ]
}